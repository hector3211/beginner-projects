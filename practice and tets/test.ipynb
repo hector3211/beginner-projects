{
 "cells": [
  {
   "cell_type": "code",
   "execution_count": 42,
   "metadata": {},
   "outputs": [
    {
     "data": {
      "text/plain": [
       "10"
      ]
     },
     "execution_count": 42,
     "metadata": {},
     "output_type": "execute_result"
    }
   ],
   "source": [
    "\n",
    "# finds the biggest number\n",
    "def fun(*args):\n",
    "    sum = 0\n",
    "    for num in args:\n",
    "        if num > sum:\n",
    "            sum = num\n",
    "    return sum\n",
    "\n",
    "# adds them up\n",
    "def fun2(*args):\n",
    "    sum = 0\n",
    "    for num in args:\n",
    "        sum += num\n",
    "    return sum\n",
    "\n",
    "fun(1,2,3,4)\n",
    "fun2(1,2,3,4)\n",
    "\n",
    "\n",
    "\n"
   ]
  },
  {
   "cell_type": "code",
   "execution_count": 47,
   "metadata": {},
   "outputs": [
    {
     "name": "stdout",
     "output_type": "stream",
     "text": [
      "2.5\n"
     ]
    }
   ],
   "source": [
    "# kwargs like a dictionary\n",
    "\n",
    "def calc(n,**kwargs):\n",
    "    #for key,value in kwargs.items():\n",
    "        #print(key,value)\n",
    "    #print(kwargs[\"add\"])\n",
    "    n += kwargs[\"add\"]\n",
    "    n /= kwargs[\"divide\"]\n",
    "    print(n)\n",
    "\n",
    "calc(2,add=3,divide=2)"
   ]
  },
  {
   "cell_type": "code",
   "execution_count": 9,
   "metadata": {},
   "outputs": [
    {
     "data": {
      "text/plain": [
       "8"
      ]
     },
     "execution_count": 9,
     "metadata": {},
     "output_type": "execute_result"
    }
   ],
   "source": [
    "def func(*args):\n",
    "    sum = 0\n",
    "    for num in args:\n",
    "        if num > sum:\n",
    "            sum = num\n",
    "    return sum\n",
    "\n",
    "func(1,2,3,8)"
   ]
  },
  {
   "cell_type": "code",
   "execution_count": 11,
   "metadata": {},
   "outputs": [
    {
     "data": {
      "text/plain": [
       "[2, 3, 4, 5, 6]"
      ]
     },
     "execution_count": 11,
     "metadata": {},
     "output_type": "execute_result"
    }
   ],
   "source": [
    "alist = [1,2,3,4,5]\n",
    "blist = [num + 1 for num in alist]\n",
    "blist"
   ]
  },
  {
   "cell_type": "code",
   "execution_count": null,
   "metadata": {},
   "outputs": [],
   "source": [
    "# text\n",
    "text = Text(height=3, width=20)\n",
    "text.focus()\n",
    "text.insert(END,\"This is a random caption\")\n",
    "text.pack()\n",
    "text.get(\"1.0\",END)\n",
    "\n",
    "# spinbox\n",
    "def spinbox_used():\n",
    "    print(spinbox.get())\n",
    "\n",
    "spinbox = Spinbox(from_=0,to_=10,width=5,command=spinbox_used)\n",
    "spinbox.pack()\n",
    "\n",
    "# scale\n",
    "def scale_used(value):\n",
    "    print(value)\n",
    "\n",
    "scale = Scale(from_=0,to_=100,command=scale_used)\n",
    "scale.pack()\n",
    "\n",
    "\n",
    "# checkbutton\n",
    "def checkbutton_used():\n",
    "    print(checked_state.get())\n",
    "\n",
    "checked_state = IntVar()\n",
    "checkbutton = Checkbutton(text=\"Is on?\",variable = checked_state,command=checkbutton_used)\n",
    "checked_state.get()\n",
    "checkbutton.pack()\n",
    "\n",
    "# radio buttons\n",
    "def radio_used():\n",
    "    print(radio_state.get())\n",
    "\n",
    "radio_state = IntVar()\n",
    "radionbutton1 = Radiobutton(text=\"Option1\",value=1,variable=radio_state,command=radio_used)\n",
    "radionbutton2 = Radiobutton(text=\"Option2\",value=2,variable=radio_state,command=radio_used)\n",
    "radionbutton1.pack()\n",
    "radionbutton2.pack()\n",
    "\n",
    "\n",
    "\n",
    "#Listbox\n",
    "def listbox_used():\n",
    "    print(listbox.get(listbox.curselection()))\n",
    "\n",
    "\n",
    "listbox = Listbox(height=3)\n",
    "fruits = [\"Apple\",\"Pear\",\"Orange\",\"Banana\"]\n",
    "for item in fruits:\n",
    "    listbox.insert(fruits.index(item),item)\n",
    "listbox.bind(listbox_used)\n",
    "listbox.pack()"
   ]
  },
  {
   "cell_type": "code",
   "execution_count": 5,
   "metadata": {},
   "outputs": [
    {
     "name": "stdout",
     "output_type": "stream",
     "text": [
      "['d', 'l', 'G', 'f', 'o', 'T', 'D', 'j', 'm', '#', '!', '#', ')', '4', '8']\n",
      "Your password is: 4jDomG8l!d#)fT#\n"
     ]
    }
   ],
   "source": [
    "import random\n",
    "# ---------------------------- PASSWORD GENERATOR ------------------------------- #\n",
    "letters = ['a', 'b', 'c', 'd', 'e', 'f', 'g', 'h', 'i', 'j', 'k', 'l', 'm', 'n', 'o', 'p', 'q', 'r', 's', 't', 'u', 'v', 'w', 'x', 'y', 'z', 'A', 'B', 'C', 'D', 'E', 'F', 'G', 'H', 'I', 'J', 'K', 'L', 'M', 'N', 'O', 'P', 'Q', 'R', 'S', 'T', 'U', 'V', 'W', 'X', 'Y', 'Z']\n",
    "numbers = ['0', '1', '2', '3', '4', '5', '6', '7', '8', '9']\n",
    "symbols = ['!', '#', '$', '%', '&', '(', ')', '*', '+']\n",
    "\n",
    "nr_letters = random.randint(8, 10)\n",
    "nr_symbols = random.randint(2, 4)\n",
    "nr_numbers = random.randint(2, 4)\n",
    "\n",
    "#password_list = [random.choice(letters,symbols,numbers) for i in range(nr_letters,nr_symbols,nr_numbers)] \n",
    "password_letters = [random.choice(letters) for char in range(nr_letters)]\n",
    "password_symbols = [random.choice(symbols) for char in range(nr_symbols)]\n",
    "password_numbers = [random.choice(numbers) for char in range(nr_numbers)]\n",
    "\n",
    "password_list= password_letters + password_symbols+password_numbers \n",
    "print(password_list)\n",
    "\n",
    "random.shuffle(password_list)\n",
    "\n",
    "password = \"\"\n",
    "for char in password_list:\n",
    "    password += char\n",
    "\n",
    "print(f\"Your password is: {password}\")"
   ]
  },
  {
   "cell_type": "code",
   "execution_count": null,
   "metadata": {},
   "outputs": [],
   "source": []
  }
 ],
 "metadata": {
  "interpreter": {
   "hash": "b2ee56f0e895b82f872f293f7cdb5499e564ce41036e7c7e4a11829ed53851ba"
  },
  "kernelspec": {
   "display_name": "Python 3.9.7 ('base')",
   "language": "python",
   "name": "python3"
  },
  "language_info": {
   "codemirror_mode": {
    "name": "ipython",
    "version": 3
   },
   "file_extension": ".py",
   "mimetype": "text/x-python",
   "name": "python",
   "nbconvert_exporter": "python",
   "pygments_lexer": "ipython3",
   "version": "3.9.7"
  },
  "orig_nbformat": 4
 },
 "nbformat": 4,
 "nbformat_minor": 2
}
