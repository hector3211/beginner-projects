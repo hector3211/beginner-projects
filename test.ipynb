{
 "cells": [
  {
   "cell_type": "code",
   "execution_count": 1,
   "metadata": {},
   "outputs": [
    {
     "name": "stdout",
     "output_type": "stream",
     "text": [
      "[1, 4, 9]\n"
     ]
    }
   ],
   "source": [
    "# list comprehension\n",
    "numbers = [1,2,3]\n",
    "new_list=  [num **2  for num in numbers]\n",
    "print (new_list)"
   ]
  },
  {
   "cell_type": "code",
   "execution_count": 6,
   "metadata": {},
   "outputs": [
    {
     "name": "stdout",
     "output_type": "stream",
     "text": [
      "{'hector': 91, 'nina': 43, 'mia': 94, 'isis': 62, 'adrianna': 86}\n",
      "{'hector': 91, 'mia': 94, 'isis': 62, 'adrianna': 86}\n"
     ]
    }
   ],
   "source": [
    "# dictionary comprehension\n",
    "\n",
    "import random\n",
    "names = [\"hector\",\"nina\",\"mia\",\"isis\",\"adrianna\"]\n",
    "students_scores = {student:random.randint(40,100) for student in names}\n",
    "print(students_scores)\n",
    "\n",
    "passed_students = {student:score for (student,score) in students_scores.items() if score > 50}\n",
    "print(passed_students)"
   ]
  },
  {
   "cell_type": "code",
   "execution_count": 5,
   "metadata": {},
   "outputs": [
    {
     "data": {
      "text/plain": [
       "{'hey': 3,\n",
       " \"i'm\": 3,\n",
       " 'hector': 6,\n",
       " 'i': 1,\n",
       " 'love': 4,\n",
       " 'nina': 4,\n",
       " 'very': 4,\n",
       " 'much': 4,\n",
       " 'and': 3,\n",
       " 'my': 2,\n",
       " 'dog,': 4,\n",
       " 'family': 6}"
      ]
     },
     "execution_count": 5,
     "metadata": {},
     "output_type": "execute_result"
    }
   ],
   "source": [
    "import random\n",
    "\n",
    "sentence = \"hey i'm hector i love nina very much and my dog, and family\"\n",
    "\n",
    "new_sentence = {word:len(word)  for word in sentence.split()}\n",
    "new_sentence"
   ]
  },
  {
   "cell_type": "code",
   "execution_count": 6,
   "metadata": {},
   "outputs": [
    {
     "data": {
      "text/plain": [
       "{'monday': 53.6,\n",
       " 'tuesday': 55.4,\n",
       " 'wednesday': 57.2,\n",
       " 'thursday': 59.0,\n",
       " 'faturday': 60.8,\n",
       " 'saturday': 62.6,\n",
       " 'sunday': 64.4}"
      ]
     },
     "execution_count": 6,
     "metadata": {},
     "output_type": "execute_result"
    }
   ],
   "source": [
    "# here we used list comprehension to convert the \n",
    "weather_c = {\n",
    "    \"monday\": 12,\n",
    "    \"tuesday\": 13,\n",
    "    \"wednesday\": 14,\n",
    "    \"thursday\": 15,\n",
    "    \"faturday\": 16,\n",
    "    \"saturday\": 17,\n",
    "    \"sunday\": 18,\n",
    "}\n",
    "\n",
    "weather_f = {day:number*9/5+32 for (day,number) in weather_c.items()}\n",
    "weather_f"
   ]
  },
  {
   "cell_type": "code",
   "execution_count": 34,
   "metadata": {},
   "outputs": [
    {
     "name": "stdout",
     "output_type": "stream",
     "text": [
      "student    hector\n",
      "score          56\n",
      "Name: 0, dtype: object\n",
      "student    nina\n",
      "score        70\n",
      "Name: 1, dtype: object\n",
      "student    mia\n",
      "score       90\n",
      "Name: 2, dtype: object\n"
     ]
    }
   ],
   "source": [
    "# using .iter() in pandas\n",
    "import pandas\n",
    "\n",
    "student_dict = {\n",
    "    \"student\": [\"hector\",\"nina\",\"mia\"],\n",
    "    \"score\":[56,70,90]\n",
    "}\n",
    "\n",
    "student_df = pandas.DataFrame(student_dict)\n",
    "\n",
    "\n",
    "for (index,row) in student_df.iterrows():\n",
    "    print(row)"
   ]
  },
  {
   "cell_type": "code",
   "execution_count": 7,
   "metadata": {},
   "outputs": [
    {
     "name": "stdout",
     "output_type": "stream",
     "text": [
      "YOU LOST! the Computer flipped tails\n",
      "it's tails YOU WON!\n",
      "YOU LOST! the Computer flipped heads\n",
      "it's tails YOU WON!\n"
     ]
    }
   ],
   "source": [
    "import random\n",
    "\n",
    "def play_game():\n",
    "    game_on = True\n",
    "    while game_on:\n",
    "        heads_tails=[\"heads\",\"tails\"]\n",
    "        coin_flip = random.choice(heads_tails)\n",
    "        user_input = input(\"type 'heads or 'tails' or Q to exit\").lower()\n",
    "        if user_input == \"heads\" and coin_flip == \"heads\":\n",
    "            print(f\"it's {coin_flip} YOU WON!\")\n",
    "        elif user_input == \"tails\" and coin_flip == \"tails\":\n",
    "            print(f\"it's {coin_flip} YOU WON!\")\n",
    "        elif user_input == \"q\":\n",
    "            game_on = False\n",
    "        else:\n",
    "            print(f\"YOU LOST! the Computer flipped {coin_flip}\")\n",
    "\n",
    "        \n",
    "\n",
    "\n",
    "wanna_play = input(\"Do you want to play the coin flip game: type 'yes' or 'no'\")\n",
    "if wanna_play == \"yes\":\n",
    "    play_game()"
   ]
  },
  {
   "cell_type": "code",
   "execution_count": null,
   "metadata": {},
   "outputs": [],
   "source": []
  }
 ],
 "metadata": {
  "interpreter": {
   "hash": "b2ee56f0e895b82f872f293f7cdb5499e564ce41036e7c7e4a11829ed53851ba"
  },
  "kernelspec": {
   "display_name": "Python 3.9.7 ('base')",
   "language": "python",
   "name": "python3"
  },
  "language_info": {
   "codemirror_mode": {
    "name": "ipython",
    "version": 3
   },
   "file_extension": ".py",
   "mimetype": "text/x-python",
   "name": "python",
   "nbconvert_exporter": "python",
   "pygments_lexer": "ipython3",
   "version": "3.9.7"
  },
  "orig_nbformat": 4
 },
 "nbformat": 4,
 "nbformat_minor": 2
}
